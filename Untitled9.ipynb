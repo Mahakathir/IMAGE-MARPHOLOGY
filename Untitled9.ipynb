{
 "cells": [
  {
   "cell_type": "code",
   "execution_count": 1,
   "id": "2d73c9bd",
   "metadata": {},
   "outputs": [],
   "source": [
    "import cv2 as a \n",
    "import numpy as n"
   ]
  },
  {
   "cell_type": "code",
   "execution_count": 5,
   "id": "0bb8db5a",
   "metadata": {},
   "outputs": [],
   "source": [
    "img=a.imread(\"cow.jpeg\",0)"
   ]
  },
  {
   "cell_type": "markdown",
   "id": "7f9347c0",
   "metadata": {},
   "source": [
    "# kernel"
   ]
  },
  {
   "cell_type": "code",
   "execution_count": 6,
   "id": "3342e813",
   "metadata": {},
   "outputs": [],
   "source": [
    "kernel=n.ones((3,3),n.uint8)"
   ]
  },
  {
   "cell_type": "markdown",
   "id": "db01e599",
   "metadata": {},
   "source": [
    "# erosion"
   ]
  },
  {
   "cell_type": "code",
   "execution_count": 7,
   "id": "688351d9",
   "metadata": {},
   "outputs": [],
   "source": [
    "er=a.erode(img,kernel,iterations=7)"
   ]
  },
  {
   "cell_type": "code",
   "execution_count": 10,
   "id": "2f1a8ddb",
   "metadata": {},
   "outputs": [],
   "source": [
    "a.imshow(\"grey_img\",img)\n",
    "a.imshow(\"erosion\",er)\n",
    "a.waitKey(0)\n",
    "a.destroyAllWindows()"
   ]
  },
  {
   "cell_type": "code",
   "execution_count": 14,
   "id": "25c8f5df",
   "metadata": {},
   "outputs": [
    {
     "data": {
      "text/plain": [
       "True"
      ]
     },
     "execution_count": 14,
     "metadata": {},
     "output_type": "execute_result"
    }
   ],
   "source": [
    "a.imwrite(\"erosion_img.jpg\",er)"
   ]
  },
  {
   "cell_type": "markdown",
   "id": "7f9cb511",
   "metadata": {},
   "source": [
    "# dilation"
   ]
  },
  {
   "cell_type": "code",
   "execution_count": 11,
   "id": "fa354bb7",
   "metadata": {},
   "outputs": [],
   "source": [
    "di=a.dilate(img,kernel,iterations=3)"
   ]
  },
  {
   "cell_type": "code",
   "execution_count": 12,
   "id": "c1705fcc",
   "metadata": {},
   "outputs": [],
   "source": [
    "a.imshow(\"grey_img\",img)\n",
    "a.imshow(\"dilation_img\",di)\n",
    "a.waitKey(0)\n",
    "a.destroyAllWindows()"
   ]
  },
  {
   "cell_type": "code",
   "execution_count": 15,
   "id": "8fdf77df",
   "metadata": {},
   "outputs": [
    {
     "data": {
      "text/plain": [
       "True"
      ]
     },
     "execution_count": 15,
     "metadata": {},
     "output_type": "execute_result"
    }
   ],
   "source": [
    "a.imwrite(\"dilition_img.jpg\",di)"
   ]
  },
  {
   "cell_type": "code",
   "execution_count": null,
   "id": "5521528e",
   "metadata": {},
   "outputs": [],
   "source": []
  }
 ],
 "metadata": {
  "kernelspec": {
   "display_name": "Python 3 (ipykernel)",
   "language": "python",
   "name": "python3"
  },
  "language_info": {
   "codemirror_mode": {
    "name": "ipython",
    "version": 3
   },
   "file_extension": ".py",
   "mimetype": "text/x-python",
   "name": "python",
   "nbconvert_exporter": "python",
   "pygments_lexer": "ipython3",
   "version": "3.9.15"
  }
 },
 "nbformat": 4,
 "nbformat_minor": 5
}
